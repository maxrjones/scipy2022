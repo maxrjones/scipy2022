{
 "cells": [
  {
   "cell_type": "markdown",
   "id": "f580efe5-3335-4204-9de8-47c10e07326e",
   "metadata": {
    "tags": []
   },
   "source": [
    "# Geospatial analysis and visualization with PyGMT\n",
    "\n",
    "Here, we'll demonstrate a few new (relative to SciPy 2018) features for data processing and visualization in PyGMT."
   ]
  },
  {
   "cell_type": "markdown",
   "id": "ed4fd78e-4735-44b6-a2ed-8ac780c9eddb",
   "metadata": {
    "tags": []
   },
   "source": [
    "## Data visualization\n",
    "\n",
    "Data visualization with PyGMT is handled through the [pygmt.Figure class and its methods](https://www.pygmt.org/latest/api/index.html#plotting). Examples include:\n",
    "\n",
    "- Project and plot grids or images\n",
    "- Create 3-D perspective plots\n",
    "- Plot velocity vectors, crosses, and anisotropy bars\n",
    "- Plot earthquake focal mechanisms\n"
   ]
  },
  {
   "cell_type": "markdown",
   "id": "a98d9017-800b-4c78-bc25-4df07d0127df",
   "metadata": {},
   "source": [
    "In the data visualization examples, we'll use [PyGMT](https://pygmt.org) for visualization and [geopandas](https://github.com/geopandas/geopandas) for reading and manipulating vector data. PyGMT has a flat package layout, meaning that you can access everything in it with a single `import`."
   ]
  },
  {
   "cell_type": "code",
   "execution_count": null,
   "id": "6750465b-61d6-4d92-aee7-6dbe23f7cb42",
   "metadata": {},
   "outputs": [],
   "source": [
    "import pygmt\n",
    "import geopandas as gpd"
   ]
  },
  {
   "cell_type": "markdown",
   "id": "1f74abea-c010-42e1-ae49-7b1e5d9c84ce",
   "metadata": {},
   "source": [
    "### Plot earthquake focal mechanisms\n",
    "\n",
    "First, we'll demonstrate how PyGMT provides access to the GMT's geophysical data visualization tools based on an example from the [UNAVCO-sponsored GMT for Geodesy course](https://github.com/GenericMappingTools/gmt-for-geodesy) using data from the [Global Centroid-Moment-Tensor Project](https://www.globalcmt.org/) (Ekström et al., 2012)."
   ]
  },
  {
   "cell_type": "markdown",
   "id": "0fc3395b-afa5-4b2f-b8fe-a0982e51c2d1",
   "metadata": {},
   "source": [
    "GMT provides easy access to several [datasets](https://www.generic-mapping-tools.org/remote-datasets). In this example, we'll load the SRTM15+ earth relief data (Tozer et al., 2019) as an xarray DataArray for the underlying map."
   ]
  },
  {
   "cell_type": "code",
   "execution_count": null,
   "id": "889bad41-161c-4608-b591-85a131df4d07",
   "metadata": {},
   "outputs": [],
   "source": [
    "grid = pygmt.datasets.load_earth_relief(\n",
    "    resolution=\"02m\", region=[122, 147, 30, 48], registration=\"gridline\"\n",
    ")\n",
    "grid"
   ]
  },
  {
   "cell_type": "markdown",
   "id": "61f25105-6fe2-4cd0-af66-90dac6ed5674",
   "metadata": {},
   "source": [
    "All plotting is handled by the `pygmt.Figure` class. Here is a good analogy for it:\n",
    "\n",
    "> `pygmt.Figure` is a blank canvas onto which you can lay down plot elements in order.\n",
    "\n",
    "Here is how you can create a figure:"
   ]
  },
  {
   "cell_type": "code",
   "execution_count": null,
   "id": "b0e08497-4e6b-47cb-a239-ea8dd7ef51c2",
   "metadata": {},
   "outputs": [],
   "source": [
    "fig = pygmt.Figure()"
   ]
  },
  {
   "cell_type": "markdown",
   "id": "b63007cb-c93e-4dee-9e27-8e869f7cc25c",
   "metadata": {},
   "source": [
    "We can plot the earth relief data using the `grdimage` method of `pygmt.Figure`"
   ]
  },
  {
   "cell_type": "code",
   "execution_count": null,
   "id": "165f6726-ec1d-42d6-903b-5ebd8607e218",
   "metadata": {},
   "outputs": [],
   "source": [
    "fig.grdimage(\n",
    "    grid=grid, shading=True, projection=\"M15c\", frame=[\"WSen\", \"af\"], cmap=\"SCM/oleron\"\n",
    ")"
   ]
  },
  {
   "cell_type": "markdown",
   "id": "88ff09c5-ed8b-445f-8c7d-c1f99af652b8",
   "metadata": {},
   "source": [
    "We can add a colorbar for the earth relief data"
   ]
  },
  {
   "cell_type": "code",
   "execution_count": null,
   "id": "c6d77fbc-bf0e-4182-b5ad-4e33ad1b867c",
   "metadata": {},
   "outputs": [],
   "source": [
    "fig.colorbar(\n",
    "    position=\"jTR+o-2c/0c+w6c+ml\", frame='a2000+l\"Earth relief (m)\"', shading=True\n",
    ")"
   ]
  },
  {
   "cell_type": "markdown",
   "id": "a7693242-d7cb-4f5a-b221-9a884b900784",
   "metadata": {},
   "source": [
    "To see what the figure looks like, we call the `show` method of `pygmt.Figure`"
   ]
  },
  {
   "cell_type": "code",
   "execution_count": null,
   "id": "aafaac97-e6eb-4d23-8825-e288ba375490",
   "metadata": {},
   "outputs": [],
   "source": [
    "fig.show()"
   ]
  },
  {
   "cell_type": "markdown",
   "id": "a019b4dd-8ce3-49d6-a181-c81304deef20",
   "metadata": {},
   "source": [
    "Now, we can update the colormap for the earthquake focal mechanisms"
   ]
  },
  {
   "cell_type": "code",
   "execution_count": null,
   "id": "1da98879-b2e6-411b-863c-8daf1950431e",
   "metadata": {},
   "outputs": [],
   "source": [
    "pygmt.makecpt(cmap=\"plasma\", series=[0, 700, 5], reverse=True)"
   ]
  },
  {
   "cell_type": "markdown",
   "id": "5617801c-9a4b-491f-8467-2b7fae70e709",
   "metadata": {},
   "source": [
    "We can plot the focal mechanisms from the global CMT catalog using the `meca` method"
   ]
  },
  {
   "cell_type": "code",
   "execution_count": null,
   "id": "83300615-6676-4b4c-93c8-abb8654fe517",
   "metadata": {},
   "outputs": [],
   "source": [
    "fig.meca(\"_data/japan-focal.dat\", convention=\"mt\", scale=\"0.5c+f0p\", C=True)"
   ]
  },
  {
   "cell_type": "markdown",
   "id": "32eb80be-2859-48fe-847d-2a14150ca10d",
   "metadata": {},
   "source": [
    "Lastly, let's add another colorbar for these data and display the final result"
   ]
  },
  {
   "cell_type": "code",
   "execution_count": null,
   "id": "80e0f7f9-6d25-4376-a048-787646a7d9ba",
   "metadata": {},
   "outputs": [],
   "source": [
    "fig.colorbar(position=\"jBR+o-2c/0c+w-6c+ml\", frame='a100+l\"Focal depth (km)\"')\n",
    "fig.show()"
   ]
  },
  {
   "cell_type": "markdown",
   "id": "8097f278-1f23-49a7-ac0d-79148913c1b8",
   "metadata": {},
   "source": [
    "We can also save the figure using the `savefig` method"
   ]
  },
  {
   "cell_type": "code",
   "execution_count": null,
   "id": "423a135e-58e2-472e-895a-cc8926f3a38a",
   "metadata": {},
   "outputs": [],
   "source": [
    "fig.savefig(\"earthquakes.png\")"
   ]
  },
  {
   "cell_type": "markdown",
   "id": "e65782d8-5c94-4a0e-99d8-f18ed0a9da68",
   "metadata": {},
   "source": [
    "### Plot geospatial vector data\n",
    "\n",
    "One of the main benefits of using PyGMT is the integration with the broader scientific Python ecosystem. In this section, we'll show how PyGMT can be used to visualize geopandas data objects based on one of the [PyGMT gallery examples](https://www.pygmt.org/latest/gallery/lines/roads.html#sphx-glr-gallery-lines-roads-py).\n"
   ]
  },
  {
   "cell_type": "markdown",
   "id": "912766e5-e4b7-4270-b415-947c23899198",
   "metadata": {},
   "source": [
    "Read shapefile using geopandas"
   ]
  },
  {
   "cell_type": "code",
   "execution_count": null,
   "id": "251ef92f-a0e0-4485-b1ee-3ae8a122fda7",
   "metadata": {},
   "outputs": [],
   "source": [
    "gdf = gpd.read_file(\n",
    "    \"https://www2.census.gov/geo/tiger/TIGER2015/PRISECROADS/tl_2015_15_prisecroads.zip\"\n",
    ")"
   ]
  },
  {
   "cell_type": "markdown",
   "id": "dae2a1b1-9f3b-44e0-8cd0-0351efbe72e1",
   "metadata": {},
   "source": [
    "Select a few road types to plot"
   ]
  },
  {
   "cell_type": "code",
   "execution_count": null,
   "id": "fa340924-be53-43cf-9fbd-2e663d5a27ab",
   "metadata": {},
   "outputs": [],
   "source": [
    "roads_common = gdf[gdf.RTTYP == \"M\"]  # Common name roads\n",
    "roads_state = gdf[gdf.RTTYP == \"S\"]  # State recognized roads\n",
    "roads_interstate = gdf[gdf.RTTYP == \"I\"]  # Interstate roads"
   ]
  },
  {
   "cell_type": "markdown",
   "id": "e60d0aaf-ebed-4881-bdc2-e25f8c492d80",
   "metadata": {},
   "source": [
    "We'll want to define the region and title for our plot"
   ]
  },
  {
   "cell_type": "code",
   "execution_count": null,
   "id": "a3cd9e16-f963-4371-a272-934b495510c5",
   "metadata": {},
   "outputs": [],
   "source": [
    "region = [-158.3, -157.6, 21.2, 21.75]\n",
    "title = r\"Main roads of O\\047ahu (Hawai\\047i)\"  # \\047 is octal code for '"
   ]
  },
  {
   "cell_type": "markdown",
   "id": "3eaed498-2704-48dd-9178-530855b550df",
   "metadata": {},
   "source": [
    "Again, we'll use the plotting methods of `pygmt.Figure`. We'll configure the map appearance using the `basemap` method"
   ]
  },
  {
   "cell_type": "code",
   "execution_count": null,
   "id": "99ebf17c-cd30-4693-b19d-44abe672f39f",
   "metadata": {},
   "outputs": [],
   "source": [
    "fig = pygmt.Figure()\n",
    "fig.basemap(region=region, projection=\"M12c\", frame=[\"af\", f'WSne+t\"{title}\"'])"
   ]
  },
  {
   "cell_type": "markdown",
   "id": "e90b5d8c-e0f3-4356-b637-4cdbc1fa64f0",
   "metadata": {},
   "source": [
    "We can add some context to our map by plotting coastlines, land color, and ocean color"
   ]
  },
  {
   "cell_type": "code",
   "execution_count": null,
   "id": "37b06af2-e956-4524-9c4f-f39853a39cca",
   "metadata": {},
   "outputs": [],
   "source": [
    "fig.coast(land=\"gray\", water=\"dodgerblue4\", shorelines=\"1p,black\")"
   ]
  },
  {
   "cell_type": "markdown",
   "id": "6cdab7de-e3c0-4ed6-9fe6-9df6b24ce811",
   "metadata": {},
   "source": [
    "We can easily plot the geopandas GeoDataFrames by passing them as the argument to the `data` parameter. We'll also use the `label` parameter to define the legend item for that data."
   ]
  },
  {
   "cell_type": "code",
   "execution_count": null,
   "id": "8a5ef0f2-d59c-471c-a022-59d9edaa160b",
   "metadata": {},
   "outputs": [],
   "source": [
    "fig.plot(data=roads_common, pen=\"5p,dodgerblue\", label=\"Common Name\")\n",
    "fig.plot(data=roads_state, pen=\"2p,gold\", label=\"State Recognized\")\n",
    "fig.plot(data=roads_interstate, pen=\"2p,red\", label=\"Interstate\")"
   ]
  },
  {
   "cell_type": "markdown",
   "id": "864e8bbe-9785-4682-9253-7773ab9e4e3d",
   "metadata": {},
   "source": [
    "Lastly, we'll add a legend and display the figure"
   ]
  },
  {
   "cell_type": "code",
   "execution_count": null,
   "id": "28348c32-23d1-4acd-a5b9-ccdf8b267f58",
   "metadata": {},
   "outputs": [],
   "source": [
    "fig.legend()\n",
    "fig.show()"
   ]
  },
  {
   "cell_type": "markdown",
   "id": "eb9bda16-96f0-4581-b759-5abeb705647f",
   "metadata": {
    "tags": []
   },
   "source": [
    "## Processing tables | grids\n",
    "\n",
    "PyGMT's numerous functions for processing tabular or gridded data are detailed in the [API documentation](https://www.pygmt.org/latest/api/index.html#data-processing). Examples include:\n",
    "- Grid arbitrarily spaced data\n",
    "- Project data onto lines or great circles\n",
    "- Clip, cut, fill, and sample grids\n",
    "- Filter grids in the space of time domains"
   ]
  },
  {
   "cell_type": "markdown",
   "id": "7cd3a419-f4ae-4d7b-adff-99a825690686",
   "metadata": {},
   "source": [
    "### Grid LiDAR data\n",
    "\n",
    "In this example, we'll cover a simplified version of the 2022 EGU Short Course tutorial [LiDAR point clouds to 3D surfaces](https://www.generic-mapping-tools.org/egu22pygmt/lidar_to_surface.html)!"
   ]
  },
  {
   "cell_type": "markdown",
   "id": "88405e4b-59b3-4669-9183-43d500ceddcf",
   "metadata": {},
   "source": [
    "Besides [pygmt](https://www.pygmt.org), we'll also be using:\n",
    "\n",
    "- [laspy](https://github.com/laspy/laspy) to read in LAZ LiDAR files\n",
    "- [pandas](https://pandas.pydata.org) for managing tabular data"
   ]
  },
  {
   "cell_type": "code",
   "execution_count": null,
   "id": "9239906b-4792-4dc0-8257-1e96e2065a98",
   "metadata": {},
   "outputs": [],
   "source": [
    "import laspy\n",
    "import pandas as pd\n",
    "import pygmt"
   ]
  },
  {
   "cell_type": "markdown",
   "id": "01f59225-fe66-4dd8-9542-1ebd13a9966e",
   "metadata": {},
   "source": [
    "The data are from a recent LiDAR survey of Wellington, New Zealand that's published under a [CC BY 4.0](https://creativecommons.org/licenses/by/4.0/) license.\n",
    "- OpenTopography link: https://doi.org/10.5069/G9K935QX\n",
    "- Bulk download location: https://opentopography.s3.sdsc.edu/minio/pc-bulk/NZ19_Wellington\n",
    "- Official 1m DSM from LINZ: https://data.linz.govt.nz/layer/105024-wellington-city-lidar-1m-dsm-2019-2020\n",
    "\n",
    "References:\n",
    "- https://medium.com/on-location/from-points-to-pixels-creating-digital-elevation-models-from-open-topography-point-clouds-abe616d06860\n",
    "- https://github.com/GenericMappingTools/foss4g2019oceania/blob/v1/3_lidar_to_surface.ipynb\n",
    "- https://github.com/weiji14/30DayMapChallenge2021/blob/v0.3.1/day17_land.py"
   ]
  },
  {
   "cell_type": "markdown",
   "id": "e5e82645-37c5-4cbe-bae3-85edaa4e591b",
   "metadata": {},
   "source": [
    "We can use `pygmt.which` to download a remote file to our current working directory"
   ]
  },
  {
   "cell_type": "code",
   "execution_count": null,
   "id": "e9c4df36-ebb9-46ab-95c8-f5d706bc6f40",
   "metadata": {},
   "outputs": [],
   "source": [
    "lazfile = pygmt.which(\n",
    "    fname=\"https://opentopography.s3.sdsc.edu/pc-bulk/NZ19_Wellington/CL2_BQ31_2019_1000_2138.laz\",\n",
    "    download=True,\n",
    ")"
   ]
  },
  {
   "cell_type": "markdown",
   "id": "7b4bd558-39ed-4a89-a4f2-227da410d64f",
   "metadata": {},
   "source": [
    "For convenience, we'll store the data as a pandas DataFrame and filter out noisy data"
   ]
  },
  {
   "cell_type": "code",
   "execution_count": null,
   "id": "63c47c56-f599-4eb6-9143-b1d40309c167",
   "metadata": {},
   "outputs": [],
   "source": [
    "lazdata = laspy.read(source=lazfile)\n",
    "df = pd.DataFrame(\n",
    "    data={\n",
    "        \"x\": lazdata.x.scaled_array(),\n",
    "        \"y\": lazdata.y.scaled_array(),\n",
    "        \"z\": lazdata.z.scaled_array(),\n",
    "        \"classification\": lazdata.classification,\n",
    "    }\n",
    ")\n",
    "df = df.query(expr=\"classification != 18\")"
   ]
  },
  {
   "cell_type": "markdown",
   "id": "507065df-294d-474d-a1ab-36ceaa9eba64",
   "metadata": {},
   "source": [
    "We can use `pygmt.info` to get the bounding box for the data"
   ]
  },
  {
   "cell_type": "code",
   "execution_count": null,
   "id": "611686bf-c118-4783-a8fc-88ca9f98736f",
   "metadata": {},
   "outputs": [],
   "source": [
    "region = pygmt.info(data=df[[\"x\", \"y\"]], spacing=1)"
   ]
  },
  {
   "cell_type": "markdown",
   "id": "6049036c-87e8-4637-9225-37757aefec4d",
   "metadata": {},
   "source": [
    "We'll preprocess the data by using `blockmedian` to get the 99th quantile of data for each 1m block inside the bounding box"
   ]
  },
  {
   "cell_type": "code",
   "execution_count": null,
   "id": "0dcd0aaa-bedd-45cf-b31b-c6a83690b8bc",
   "metadata": {},
   "outputs": [],
   "source": [
    "df_trimmed = pygmt.blockmedian(\n",
    "    data=df[[\"x\", \"y\", \"z\"]], T=0.99, spacing=\"1+e\", region=region, C=True\n",
    ")\n",
    "df_trimmed"
   ]
  },
  {
   "cell_type": "markdown",
   "id": "ecc29065-4c35-4f77-bc8b-12c1e280050a",
   "metadata": {},
   "source": [
    "We'll create a Digital Surface Elevation Model with a spatial resolution of 1m using adjustable tension splines via `pygmt.surface`"
   ]
  },
  {
   "cell_type": "code",
   "execution_count": null,
   "id": "3b968fee-8557-4bf1-82be-10bc1815fa5b",
   "metadata": {},
   "outputs": [],
   "source": [
    "grid = pygmt.surface(\n",
    "    x=df_trimmed.x,\n",
    "    y=df_trimmed.y,\n",
    "    z=df_trimmed.z,\n",
    "    spacing=\"1+e\",\n",
    "    region=region,\n",
    "    T=0.35,  # tension factor\n",
    ")\n",
    "grid"
   ]
  },
  {
   "cell_type": "markdown",
   "id": "58f0c015-6dd7-4800-8042-7f01abfab109",
   "metadata": {},
   "source": [
    "Plot the Digital Surface Model (DSM) by passing the\n",
    "[xarray.DataArray](https://docs.xarray.dev/en/v2022.03.0/generated/xarray.DataArray.html)\n",
    "grid into\n",
    "[pygmt.Figure.grdview](https://www.pygmt.org/v0.7.0/api/generated/pygmt.Figure.grdview)."
   ]
  },
  {
   "cell_type": "code",
   "execution_count": null,
   "id": "867bec87-d235-43e0-b01b-9fb81571d93d",
   "metadata": {},
   "outputs": [],
   "source": [
    "fig = pygmt.Figure()\n",
    "fig.grdview(\n",
    "    grid=grid,\n",
    "    cmap=\"SCM/bukavu\",\n",
    "    surftype=\"s\",  # surface plot\n",
    "    perspective=[315, 30],  # azimuth bearing, and elevation angle\n",
    "    zscale=0.02,  # vertical exaggeration\n",
    "    shading=True,  # hillshading\n",
    "    region=region,\n",
    "    frame=[\n",
    "        \"xaf+lEasting\",\n",
    "        \"yaf+lNorthing\",\n",
    "        \"zaf+lElevation (m)\",\n",
    "        \"+tOriental Bay, Wellington\",\n",
    "    ],\n",
    ")\n",
    "fig.show()"
   ]
  },
  {
   "cell_type": "markdown",
   "id": "a53a3e20-ff00-4403-bc84-8193e767411c",
   "metadata": {},
   "source": [
    "### Perform grid histogram equalization\n",
    "\n",
    "In this example, we'll explore a simplified version of the PyGMT tutorial on [transforming grids based on a cumulative distribution function](https://www.pygmt.org/latest/tutorials/advanced/grid_equalization.html#sphx-glr-tutorials-advanced-grid-equalization-py)."
   ]
  },
  {
   "cell_type": "markdown",
   "id": "64823121-0947-443e-9f1b-cae0b022e3a2",
   "metadata": {},
   "source": [
    "Again, we'll first define our region of interest"
   ]
  },
  {
   "cell_type": "code",
   "execution_count": null,
   "id": "fa5b6730-c56c-43f1-8be1-e3cf423d1078",
   "metadata": {},
   "outputs": [],
   "source": [
    "region = [-119.825, -119.4, 37.6, 37.825]"
   ]
  },
  {
   "cell_type": "markdown",
   "id": "e2c0e1ce-7f9f-44d9-af9d-6a2f3b0d1dd3",
   "metadata": {},
   "source": [
    "This time, we'll use a higher resolution version of the SRTM15+ earth relief dataset (Tozer et al., 2019)"
   ]
  },
  {
   "cell_type": "code",
   "execution_count": null,
   "id": "04b96b18-ea2e-4c5c-9c6d-64fd7632782e",
   "metadata": {},
   "outputs": [],
   "source": [
    "grid = pygmt.datasets.load_earth_relief(\n",
    "    resolution=\"03s\", region=region, registration=\"gridline\"\n",
    ")\n",
    "# Store elevation values as a pandas DataFrame\n",
    "grid_dist = pygmt.grd2xyz(grid=grid, output_type=\"pandas\")[\"elevation\"]"
   ]
  },
  {
   "cell_type": "markdown",
   "id": "6a613443-eb1c-43fd-afb6-e20a17864f9d",
   "metadata": {},
   "source": [
    "We can add some more customization to our figures using `pygmt.config`"
   ]
  },
  {
   "cell_type": "code",
   "execution_count": null,
   "id": "4f9116dc-ea8e-4bb0-a041-b28cb423772f",
   "metadata": {},
   "outputs": [],
   "source": [
    "fig = pygmt.Figure()\n",
    "pygmt.config(FORMAT_GEO_MAP=\"ddd.x\", MAP_FRAME_TYPE=\"plain\")\n",
    "# Define the colormap for the figure\n",
    "pygmt.makecpt(series=[500, 3540], cmap=\"turku\")"
   ]
  },
  {
   "cell_type": "markdown",
   "id": "8698c50c-b446-4fe8-b6a2-9fff10a4959b",
   "metadata": {},
   "source": [
    "We'll use the `subplot` and `set_panel` methods of `pygmt.Figure` to plot the DEM and the distribution of elevation values side-by-side"
   ]
  },
  {
   "cell_type": "code",
   "execution_count": null,
   "id": "cc8f5532-5e2d-4f05-99c9-04764b9ee3a0",
   "metadata": {},
   "outputs": [],
   "source": [
    "# Setup subplots with two panels\n",
    "with fig.subplot(\n",
    "    nrows=1, ncols=2, figsize=(\"13.5c\", \"4c\"), title=\"Digital Elevation Model\"\n",
    "):\n",
    "    # Plot the original digital elevation model in the first panel\n",
    "    with fig.set_panel(panel=0):\n",
    "        fig.grdimage(grid=grid, region=region, projection=\"M?\", frame=\"WSne\", cmap=True)\n",
    "    # Plot a histogram showing the z-value distribution in the original digital\n",
    "    # elevation model\n",
    "    with fig.set_panel(panel=1):\n",
    "        fig.histogram(\n",
    "            data=grid_dist,\n",
    "            projection=\"X?\",\n",
    "            region=[500, 3600, 0, 20],\n",
    "            series=[500, 3600, 100],\n",
    "            frame=[\"wnSE\", \"xaf+lElevation (m)\", \"yaf+lPercent frequency\"],\n",
    "            cmap=True,\n",
    "            histtype=1,\n",
    "            pen=\"1p,black\",\n",
    "        )\n",
    "        fig.colorbar(position=\"JMR+o1.5c/0c+w3c/0.3c\", frame=True)\n",
    "fig.show()"
   ]
  },
  {
   "cell_type": "markdown",
   "id": "171c00b9-414d-4b1d-88fb-f7276bd1fe4b",
   "metadata": {},
   "source": [
    "Create a new grid with the z-values representing the position of the original z-values in a given cumulative distribution."
   ]
  },
  {
   "cell_type": "code",
   "execution_count": null,
   "id": "dd79d993-467c-42a0-be46-9a55d92dd2c0",
   "metadata": {},
   "outputs": [],
   "source": [
    "divisions = 10\n",
    "linear = pygmt.grdhisteq.equalize_grid(grid=grid, divisions=divisions)\n",
    "linear_dist = pygmt.grd2xyz(grid=linear, output_type=\"pandas\")[\"z\"]"
   ]
  },
  {
   "cell_type": "markdown",
   "id": "d21f2396-4c1f-49d1-a7e4-27fbcca78315",
   "metadata": {},
   "source": [
    "Create a map showing the grid with a linear distribution of ten divisions along with a histogram of the data values."
   ]
  },
  {
   "cell_type": "code",
   "execution_count": null,
   "id": "fed2947c-2eda-49d4-803b-39989a230cee",
   "metadata": {},
   "outputs": [],
   "source": [
    "# Create an instance of the Figure class\n",
    "fig = pygmt.Figure()\n",
    "# Define figure configuration\n",
    "pygmt.config(FORMAT_GEO_MAP=\"ddd.x\", MAP_FRAME_TYPE=\"plain\")\n",
    "# Define the colormap for the figure\n",
    "pygmt.makecpt(series=[0, divisions, 1], cmap=\"lajolla\")\n",
    "# Setup subplots with two panels\n",
    "with fig.subplot(\n",
    "    nrows=1, ncols=2, figsize=(\"13.5c\", \"4c\"), title=\"Linear distribution\"\n",
    "):\n",
    "    # Plot the grid with a linear distribution in the first panel\n",
    "    with fig.set_panel(panel=0):\n",
    "        fig.grdimage(\n",
    "            grid=linear, region=region, projection=\"M?\", frame=\"WSne\", cmap=True\n",
    "        )\n",
    "    # Plot a histogram showing the linear z-value distribution\n",
    "    with fig.set_panel(panel=1):\n",
    "        fig.histogram(\n",
    "            data=linear_dist,\n",
    "            projection=\"X?\",\n",
    "            region=[-1, divisions, 0, 40],\n",
    "            series=[0, divisions, 1],\n",
    "            frame=[\"wnSE\", \"xaf+lDivision\", \"yaf+lPercent frequency\"],\n",
    "            cmap=True,\n",
    "            histtype=1,\n",
    "            pen=\"1p,black\",\n",
    "            center=True,\n",
    "        )\n",
    "        fig.colorbar(position=\"JMR+o1.5c/0c+w3c/0.3c\", frame=True)\n",
    "fig.show()"
   ]
  },
  {
   "cell_type": "markdown",
   "id": "e1996fd5-ced2-4512-9eab-53b9ad5e731e",
   "metadata": {},
   "source": [
    "### Find out more\n",
    "\n",
    "For more data visualization and processing examples, check out our [tutorials](https://www.pygmt.org/latest/tutorials/index.html), [gallery examples](https://www.pygmt.org/latest/gallery/index.html), and the [external resources](https://www.pygmt.org/latest/external_resources.html)!"
   ]
  },
  {
   "cell_type": "code",
   "execution_count": null,
   "id": "85f055c3-c4b2-48b6-9108-7b8cb53f2b1d",
   "metadata": {},
   "outputs": [],
   "source": []
  }
 ],
 "metadata": {
  "kernelspec": {
   "display_name": "Python 3 (ipykernel)",
   "language": "python",
   "name": "python3"
  },
  "language_info": {
   "codemirror_mode": {
    "name": "ipython",
    "version": 3
   },
   "file_extension": ".py",
   "mimetype": "text/x-python",
   "name": "python",
   "nbconvert_exporter": "python",
   "pygments_lexer": "ipython3",
   "version": "3.10.5"
  },
  "vscode": {
   "interpreter": {
    "hash": "31f2aee4e71d21fbe5cf8b01ff0e069b9275f58929596ceb00d14d90e3e16cd6"
   }
  }
 },
 "nbformat": 4,
 "nbformat_minor": 5
}
